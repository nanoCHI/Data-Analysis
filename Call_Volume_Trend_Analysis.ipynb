{
  "nbformat": 4,
  "nbformat_minor": 0,
  "metadata": {
    "colab": {
      "provenance": [],
      "mount_file_id": "1umPafWR90-Lbfzqe2hxt-Eh-iKUxF5Z5",
      "authorship_tag": "ABX9TyM2I5TGPqq9J+mfQMlPO9ao",
      "include_colab_link": true
    },
    "kernelspec": {
      "name": "python3",
      "display_name": "Python 3"
    },
    "language_info": {
      "name": "python"
    }
  },
  "cells": [
    {
      "cell_type": "markdown",
      "metadata": {
        "id": "view-in-github",
        "colab_type": "text"
      },
      "source": [
        "<a href=\"https://colab.research.google.com/github/nanoCHI/Data-Analysis/blob/main/Call_Volume_Trend_Analysis.ipynb\" target=\"_parent\"><img src=\"https://colab.research.google.com/assets/colab-badge.svg\" alt=\"Open In Colab\"/></a>"
      ]
    },
    {
      "cell_type": "markdown",
      "source": [
        "# Importing all the important libraries"
      ],
      "metadata": {
        "id": "ZMVtBOhyKpzR"
      }
    },
    {
      "cell_type": "code",
      "source": [
        "import numpy as np\n",
        "import pandas as pd\n",
        "import seaborn as sns\n",
        "import matplotlib.pyplot as plt\n"
      ],
      "metadata": {
        "id": "xubU0Z-KK1Ov"
      },
      "execution_count": 2,
      "outputs": []
    },
    {
      "cell_type": "markdown",
      "source": [
        "# Read CSV file"
      ],
      "metadata": {
        "id": "HzwaTPCJL2ZQ"
      }
    },
    {
      "cell_type": "code",
      "source": [
        "df = pd.read_csv('/content/drive/My Drive/Colab Notebooks/Call_Volume_Trend_Analysis_Project_9.xlsx - Call_Data.csv')\n",
        "df"
      ],
      "metadata": {
        "colab": {
          "base_uri": "https://localhost:8080/",
          "height": 424
        },
        "id": "WUCJ9ucSQsaP",
        "outputId": "7f136e61-2afb-49e1-94ac-294f974c972e"
      },
      "execution_count": 3,
      "outputs": [
        {
          "output_type": "execute_result",
          "data": {
            "text/plain": [
              "           Agent_Name   Agent_ID Customer_Phone_No  Queue_Time(Secs)  \\\n",
              "0       Executives 42  1000042.0        98502XXXXX                 2   \n",
              "1        Executives 4  1000004.0        80595XXXXX                 0   \n",
              "2       Executives 65  1000065.0        70202XXXXX                 0   \n",
              "3       Executives 55  1000055.0        96104XXXXX                 1   \n",
              "4       Executives 21  1000021.0        82001XXXXX                 0   \n",
              "...               ...        ...               ...               ...   \n",
              "117983   Executives 7  1000007.0        85399XXXXX                62   \n",
              "117984  Executives 36  1000036.0        88397XXXXX                22   \n",
              "117985  Executives 48  1000048.0        70035XXXXX                14   \n",
              "117986  Executives 33  1000033.0        87773XXXXX                26   \n",
              "117987  Executives 58  1000058.0        83800XXXXX                 5   \n",
              "\n",
              "       Date_&_Time  Time Time_Bucket Duration(hh:mm:ss)  Call_Seconds (s)  \\\n",
              "0         1/1/2022   9.0        9_10            0:01:36              96.0   \n",
              "1         1/1/2022   9.0        9_10            0:02:20             140.0   \n",
              "2         1/1/2022   9.0        9_10            0:01:25              85.0   \n",
              "3         1/1/2022   9.0        9_10            0:01:31              91.0   \n",
              "4         1/1/2022   9.0        9_10            0:02:45             165.0   \n",
              "...            ...   ...         ...                ...               ...   \n",
              "117983   1/23/2022  20.0       20_21            0:01:32              92.0   \n",
              "117984   1/23/2022  20.0       20_21            0:01:14              74.0   \n",
              "117985   1/23/2022  20.0       20_21            0:01:48             108.0   \n",
              "117986   1/23/2022  20.0       20_21            0:01:13              73.0   \n",
              "117987   1/23/2022  20.0       20_21            0:01:22              82.0   \n",
              "\n",
              "       Call_Status  Wrapped _By Ringing IVR _Duration  \n",
              "0         answered        Agent     YES       0:00:16  \n",
              "1         answered        Agent     YES       0:00:26  \n",
              "2         answered  AutoWrapped     YES       0:00:16  \n",
              "3         answered        Agent     YES       0:00:25  \n",
              "4         answered        Agent     YES       0:00:23  \n",
              "...            ...          ...     ...           ...  \n",
              "117983    answered        Agent     YES       0:00:42  \n",
              "117984    answered        Agent     YES       0:00:15  \n",
              "117985    answered        Agent     YES       0:00:23  \n",
              "117986    answered        Agent     YES       0:01:05  \n",
              "117987    answered        Agent     YES       0:00:14  \n",
              "\n",
              "[117988 rows x 13 columns]"
            ],
            "text/html": [
              "\n",
              "  <div id=\"df-a7cf5a5c-5d76-48e4-ad38-8f5e545d8b2d\">\n",
              "    <div class=\"colab-df-container\">\n",
              "      <div>\n",
              "<style scoped>\n",
              "    .dataframe tbody tr th:only-of-type {\n",
              "        vertical-align: middle;\n",
              "    }\n",
              "\n",
              "    .dataframe tbody tr th {\n",
              "        vertical-align: top;\n",
              "    }\n",
              "\n",
              "    .dataframe thead th {\n",
              "        text-align: right;\n",
              "    }\n",
              "</style>\n",
              "<table border=\"1\" class=\"dataframe\">\n",
              "  <thead>\n",
              "    <tr style=\"text-align: right;\">\n",
              "      <th></th>\n",
              "      <th>Agent_Name</th>\n",
              "      <th>Agent_ID</th>\n",
              "      <th>Customer_Phone_No</th>\n",
              "      <th>Queue_Time(Secs)</th>\n",
              "      <th>Date_&amp;_Time</th>\n",
              "      <th>Time</th>\n",
              "      <th>Time_Bucket</th>\n",
              "      <th>Duration(hh:mm:ss)</th>\n",
              "      <th>Call_Seconds (s)</th>\n",
              "      <th>Call_Status</th>\n",
              "      <th>Wrapped _By</th>\n",
              "      <th>Ringing</th>\n",
              "      <th>IVR _Duration</th>\n",
              "    </tr>\n",
              "  </thead>\n",
              "  <tbody>\n",
              "    <tr>\n",
              "      <th>0</th>\n",
              "      <td>Executives 42</td>\n",
              "      <td>1000042.0</td>\n",
              "      <td>98502XXXXX</td>\n",
              "      <td>2</td>\n",
              "      <td>1/1/2022</td>\n",
              "      <td>9.0</td>\n",
              "      <td>9_10</td>\n",
              "      <td>0:01:36</td>\n",
              "      <td>96.0</td>\n",
              "      <td>answered</td>\n",
              "      <td>Agent</td>\n",
              "      <td>YES</td>\n",
              "      <td>0:00:16</td>\n",
              "    </tr>\n",
              "    <tr>\n",
              "      <th>1</th>\n",
              "      <td>Executives 4</td>\n",
              "      <td>1000004.0</td>\n",
              "      <td>80595XXXXX</td>\n",
              "      <td>0</td>\n",
              "      <td>1/1/2022</td>\n",
              "      <td>9.0</td>\n",
              "      <td>9_10</td>\n",
              "      <td>0:02:20</td>\n",
              "      <td>140.0</td>\n",
              "      <td>answered</td>\n",
              "      <td>Agent</td>\n",
              "      <td>YES</td>\n",
              "      <td>0:00:26</td>\n",
              "    </tr>\n",
              "    <tr>\n",
              "      <th>2</th>\n",
              "      <td>Executives 65</td>\n",
              "      <td>1000065.0</td>\n",
              "      <td>70202XXXXX</td>\n",
              "      <td>0</td>\n",
              "      <td>1/1/2022</td>\n",
              "      <td>9.0</td>\n",
              "      <td>9_10</td>\n",
              "      <td>0:01:25</td>\n",
              "      <td>85.0</td>\n",
              "      <td>answered</td>\n",
              "      <td>AutoWrapped</td>\n",
              "      <td>YES</td>\n",
              "      <td>0:00:16</td>\n",
              "    </tr>\n",
              "    <tr>\n",
              "      <th>3</th>\n",
              "      <td>Executives 55</td>\n",
              "      <td>1000055.0</td>\n",
              "      <td>96104XXXXX</td>\n",
              "      <td>1</td>\n",
              "      <td>1/1/2022</td>\n",
              "      <td>9.0</td>\n",
              "      <td>9_10</td>\n",
              "      <td>0:01:31</td>\n",
              "      <td>91.0</td>\n",
              "      <td>answered</td>\n",
              "      <td>Agent</td>\n",
              "      <td>YES</td>\n",
              "      <td>0:00:25</td>\n",
              "    </tr>\n",
              "    <tr>\n",
              "      <th>4</th>\n",
              "      <td>Executives 21</td>\n",
              "      <td>1000021.0</td>\n",
              "      <td>82001XXXXX</td>\n",
              "      <td>0</td>\n",
              "      <td>1/1/2022</td>\n",
              "      <td>9.0</td>\n",
              "      <td>9_10</td>\n",
              "      <td>0:02:45</td>\n",
              "      <td>165.0</td>\n",
              "      <td>answered</td>\n",
              "      <td>Agent</td>\n",
              "      <td>YES</td>\n",
              "      <td>0:00:23</td>\n",
              "    </tr>\n",
              "    <tr>\n",
              "      <th>...</th>\n",
              "      <td>...</td>\n",
              "      <td>...</td>\n",
              "      <td>...</td>\n",
              "      <td>...</td>\n",
              "      <td>...</td>\n",
              "      <td>...</td>\n",
              "      <td>...</td>\n",
              "      <td>...</td>\n",
              "      <td>...</td>\n",
              "      <td>...</td>\n",
              "      <td>...</td>\n",
              "      <td>...</td>\n",
              "      <td>...</td>\n",
              "    </tr>\n",
              "    <tr>\n",
              "      <th>117983</th>\n",
              "      <td>Executives 7</td>\n",
              "      <td>1000007.0</td>\n",
              "      <td>85399XXXXX</td>\n",
              "      <td>62</td>\n",
              "      <td>1/23/2022</td>\n",
              "      <td>20.0</td>\n",
              "      <td>20_21</td>\n",
              "      <td>0:01:32</td>\n",
              "      <td>92.0</td>\n",
              "      <td>answered</td>\n",
              "      <td>Agent</td>\n",
              "      <td>YES</td>\n",
              "      <td>0:00:42</td>\n",
              "    </tr>\n",
              "    <tr>\n",
              "      <th>117984</th>\n",
              "      <td>Executives 36</td>\n",
              "      <td>1000036.0</td>\n",
              "      <td>88397XXXXX</td>\n",
              "      <td>22</td>\n",
              "      <td>1/23/2022</td>\n",
              "      <td>20.0</td>\n",
              "      <td>20_21</td>\n",
              "      <td>0:01:14</td>\n",
              "      <td>74.0</td>\n",
              "      <td>answered</td>\n",
              "      <td>Agent</td>\n",
              "      <td>YES</td>\n",
              "      <td>0:00:15</td>\n",
              "    </tr>\n",
              "    <tr>\n",
              "      <th>117985</th>\n",
              "      <td>Executives 48</td>\n",
              "      <td>1000048.0</td>\n",
              "      <td>70035XXXXX</td>\n",
              "      <td>14</td>\n",
              "      <td>1/23/2022</td>\n",
              "      <td>20.0</td>\n",
              "      <td>20_21</td>\n",
              "      <td>0:01:48</td>\n",
              "      <td>108.0</td>\n",
              "      <td>answered</td>\n",
              "      <td>Agent</td>\n",
              "      <td>YES</td>\n",
              "      <td>0:00:23</td>\n",
              "    </tr>\n",
              "    <tr>\n",
              "      <th>117986</th>\n",
              "      <td>Executives 33</td>\n",
              "      <td>1000033.0</td>\n",
              "      <td>87773XXXXX</td>\n",
              "      <td>26</td>\n",
              "      <td>1/23/2022</td>\n",
              "      <td>20.0</td>\n",
              "      <td>20_21</td>\n",
              "      <td>0:01:13</td>\n",
              "      <td>73.0</td>\n",
              "      <td>answered</td>\n",
              "      <td>Agent</td>\n",
              "      <td>YES</td>\n",
              "      <td>0:01:05</td>\n",
              "    </tr>\n",
              "    <tr>\n",
              "      <th>117987</th>\n",
              "      <td>Executives 58</td>\n",
              "      <td>1000058.0</td>\n",
              "      <td>83800XXXXX</td>\n",
              "      <td>5</td>\n",
              "      <td>1/23/2022</td>\n",
              "      <td>20.0</td>\n",
              "      <td>20_21</td>\n",
              "      <td>0:01:22</td>\n",
              "      <td>82.0</td>\n",
              "      <td>answered</td>\n",
              "      <td>Agent</td>\n",
              "      <td>YES</td>\n",
              "      <td>0:00:14</td>\n",
              "    </tr>\n",
              "  </tbody>\n",
              "</table>\n",
              "<p>117988 rows × 13 columns</p>\n",
              "</div>\n",
              "      <button class=\"colab-df-convert\" onclick=\"convertToInteractive('df-a7cf5a5c-5d76-48e4-ad38-8f5e545d8b2d')\"\n",
              "              title=\"Convert this dataframe to an interactive table.\"\n",
              "              style=\"display:none;\">\n",
              "        \n",
              "  <svg xmlns=\"http://www.w3.org/2000/svg\" height=\"24px\"viewBox=\"0 0 24 24\"\n",
              "       width=\"24px\">\n",
              "    <path d=\"M0 0h24v24H0V0z\" fill=\"none\"/>\n",
              "    <path d=\"M18.56 5.44l.94 2.06.94-2.06 2.06-.94-2.06-.94-.94-2.06-.94 2.06-2.06.94zm-11 1L8.5 8.5l.94-2.06 2.06-.94-2.06-.94L8.5 2.5l-.94 2.06-2.06.94zm10 10l.94 2.06.94-2.06 2.06-.94-2.06-.94-.94-2.06-.94 2.06-2.06.94z\"/><path d=\"M17.41 7.96l-1.37-1.37c-.4-.4-.92-.59-1.43-.59-.52 0-1.04.2-1.43.59L10.3 9.45l-7.72 7.72c-.78.78-.78 2.05 0 2.83L4 21.41c.39.39.9.59 1.41.59.51 0 1.02-.2 1.41-.59l7.78-7.78 2.81-2.81c.8-.78.8-2.07 0-2.86zM5.41 20L4 18.59l7.72-7.72 1.47 1.35L5.41 20z\"/>\n",
              "  </svg>\n",
              "      </button>\n",
              "      \n",
              "  <style>\n",
              "    .colab-df-container {\n",
              "      display:flex;\n",
              "      flex-wrap:wrap;\n",
              "      gap: 12px;\n",
              "    }\n",
              "\n",
              "    .colab-df-convert {\n",
              "      background-color: #E8F0FE;\n",
              "      border: none;\n",
              "      border-radius: 50%;\n",
              "      cursor: pointer;\n",
              "      display: none;\n",
              "      fill: #1967D2;\n",
              "      height: 32px;\n",
              "      padding: 0 0 0 0;\n",
              "      width: 32px;\n",
              "    }\n",
              "\n",
              "    .colab-df-convert:hover {\n",
              "      background-color: #E2EBFA;\n",
              "      box-shadow: 0px 1px 2px rgba(60, 64, 67, 0.3), 0px 1px 3px 1px rgba(60, 64, 67, 0.15);\n",
              "      fill: #174EA6;\n",
              "    }\n",
              "\n",
              "    [theme=dark] .colab-df-convert {\n",
              "      background-color: #3B4455;\n",
              "      fill: #D2E3FC;\n",
              "    }\n",
              "\n",
              "    [theme=dark] .colab-df-convert:hover {\n",
              "      background-color: #434B5C;\n",
              "      box-shadow: 0px 1px 3px 1px rgba(0, 0, 0, 0.15);\n",
              "      filter: drop-shadow(0px 1px 2px rgba(0, 0, 0, 0.3));\n",
              "      fill: #FFFFFF;\n",
              "    }\n",
              "  </style>\n",
              "\n",
              "      <script>\n",
              "        const buttonEl =\n",
              "          document.querySelector('#df-a7cf5a5c-5d76-48e4-ad38-8f5e545d8b2d button.colab-df-convert');\n",
              "        buttonEl.style.display =\n",
              "          google.colab.kernel.accessAllowed ? 'block' : 'none';\n",
              "\n",
              "        async function convertToInteractive(key) {\n",
              "          const element = document.querySelector('#df-a7cf5a5c-5d76-48e4-ad38-8f5e545d8b2d');\n",
              "          const dataTable =\n",
              "            await google.colab.kernel.invokeFunction('convertToInteractive',\n",
              "                                                     [key], {});\n",
              "          if (!dataTable) return;\n",
              "\n",
              "          const docLinkHtml = 'Like what you see? Visit the ' +\n",
              "            '<a target=\"_blank\" href=https://colab.research.google.com/notebooks/data_table.ipynb>data table notebook</a>'\n",
              "            + ' to learn more about interactive tables.';\n",
              "          element.innerHTML = '';\n",
              "          dataTable['output_type'] = 'display_data';\n",
              "          await google.colab.output.renderOutput(dataTable, element);\n",
              "          const docLink = document.createElement('div');\n",
              "          docLink.innerHTML = docLinkHtml;\n",
              "          element.appendChild(docLink);\n",
              "        }\n",
              "      </script>\n",
              "    </div>\n",
              "  </div>\n",
              "  "
            ]
          },
          "metadata": {},
          "execution_count": 3
        }
      ]
    },
    {
      "cell_type": "markdown",
      "source": [
        "# Cleaning The DataFrame\n",
        "1. Checking For Duplicate Values\n",
        "2. Checking for irrelevant columns\n",
        "3. Checking for null values"
      ],
      "metadata": {
        "id": "OB7acm9YTx8V"
      }
    },
    {
      "cell_type": "code",
      "source": [
        "df.duplicated().sum()"
      ],
      "metadata": {
        "colab": {
          "base_uri": "https://localhost:8080/"
        },
        "id": "o-g4RoalUaK4",
        "outputId": "b64027e1-3dc5-4db3-f0c7-d4fac6036d20"
      },
      "execution_count": 4,
      "outputs": [
        {
          "output_type": "execute_result",
          "data": {
            "text/plain": [
              "941"
            ]
          },
          "metadata": {},
          "execution_count": 4
        }
      ]
    },
    {
      "cell_type": "markdown",
      "source": [
        "> So there are 941 Duplicate Values\n",
        ">> Next step is to remove those rows from the dataframe"
      ],
      "metadata": {
        "id": "GC0viUtNUjo2"
      }
    },
    {
      "cell_type": "code",
      "source": [
        "df = df.drop_duplicates()\n",
        "\n",
        "# Re-checking\n",
        "if(df.duplicated().sum()==0):\n",
        "  print(\"No more duplicate values\")\n",
        "else:\n",
        "  print(\"More duplicates values found\")"
      ],
      "metadata": {
        "colab": {
          "base_uri": "https://localhost:8080/"
        },
        "id": "eRr7ZQLqU_ZC",
        "outputId": "2e06c48a-9342-421b-e361-42d6fb43a858"
      },
      "execution_count": 5,
      "outputs": [
        {
          "output_type": "stream",
          "name": "stdout",
          "text": [
            "No more duplicate values\n"
          ]
        }
      ]
    },
    {
      "cell_type": "markdown",
      "source": [
        "\n",
        "\n",
        "\n",
        "> checking for any irrelevant columns\n",
        "\n",
        "\n",
        "\n",
        "\n",
        "\n",
        "\n",
        "\n",
        "\n",
        "\n",
        "\n",
        "\n",
        "\n",
        "\n",
        "\n"
      ],
      "metadata": {
        "id": "KrfTnBjFWZtk"
      }
    },
    {
      "cell_type": "code",
      "source": [
        "df.keys()"
      ],
      "metadata": {
        "colab": {
          "base_uri": "https://localhost:8080/"
        },
        "id": "pRaLG7q6WwT7",
        "outputId": "c7eff295-a8a7-4f2f-b0ab-c5f075e1db73"
      },
      "execution_count": 6,
      "outputs": [
        {
          "output_type": "execute_result",
          "data": {
            "text/plain": [
              "Index(['Agent_Name', 'Agent_ID', 'Customer_Phone_No', 'Queue_Time(Secs)',\n",
              "       'Date_&_Time', 'Time', 'Time_Bucket', 'Duration(hh:mm:ss)',\n",
              "       'Call_Seconds (s)', 'Call_Status', 'Wrapped _By', 'Ringing',\n",
              "       'IVR _Duration'],\n",
              "      dtype='object')"
            ]
          },
          "metadata": {},
          "execution_count": 6
        }
      ]
    },
    {
      "cell_type": "markdown",
      "source": [
        "> It seems there are no irrelevant columns"
      ],
      "metadata": {
        "id": "633VO8AuBLHy"
      }
    },
    {
      "cell_type": "markdown",
      "source": [
        "> Checking for null values"
      ],
      "metadata": {
        "id": "_eTC_UGyBXR_"
      }
    },
    {
      "cell_type": "code",
      "source": [
        "df.isnull().sum()"
      ],
      "metadata": {
        "colab": {
          "base_uri": "https://localhost:8080/"
        },
        "id": "-ZFxVSZEBj9b",
        "outputId": "21a4e817-abfe-4dc3-cd43-24be2d72d6f6"
      },
      "execution_count": 7,
      "outputs": [
        {
          "output_type": "execute_result",
          "data": {
            "text/plain": [
              "Agent_Name            33257\n",
              "Agent_ID              33257\n",
              "Customer_Phone_No         0\n",
              "Queue_Time(Secs)          0\n",
              "Date_&_Time               0\n",
              "Time                      0\n",
              "Time_Bucket               0\n",
              "Duration(hh:mm:ss)        0\n",
              "Call_Seconds (s)          0\n",
              "Call_Status               0\n",
              "Wrapped _By           46936\n",
              "Ringing                   0\n",
              "IVR _Duration             0\n",
              "dtype: int64"
            ]
          },
          "metadata": {},
          "execution_count": 7
        }
      ]
    },
    {
      "cell_type": "markdown",
      "source": [
        "\n",
        "\n",
        "> Dropping rows with null values\n",
        "\n",
        "\n",
        "\n",
        "\n"
      ],
      "metadata": {
        "id": "EFtBEUIeD9dg"
      }
    },
    {
      "cell_type": "code",
      "source": [
        "df.dropna()"
      ],
      "metadata": {
        "colab": {
          "base_uri": "https://localhost:8080/",
          "height": 424
        },
        "id": "iZ76A3r1Chsl",
        "outputId": "a90b084d-aff2-4c9d-f844-962af37277a8"
      },
      "execution_count": 13,
      "outputs": [
        {
          "output_type": "execute_result",
          "data": {
            "text/plain": [
              "           Agent_Name   Agent_ID Customer_Phone_No  Queue_Time(Secs)  \\\n",
              "0       Executives 42  1000042.0        98502XXXXX                 2   \n",
              "1        Executives 4  1000004.0        80595XXXXX                 0   \n",
              "2       Executives 65  1000065.0        70202XXXXX                 0   \n",
              "3       Executives 55  1000055.0        96104XXXXX                 1   \n",
              "4       Executives 21  1000021.0        82001XXXXX                 0   \n",
              "...               ...        ...               ...               ...   \n",
              "117983   Executives 7  1000007.0        85399XXXXX                62   \n",
              "117984  Executives 36  1000036.0        88397XXXXX                22   \n",
              "117985  Executives 48  1000048.0        70035XXXXX                14   \n",
              "117986  Executives 33  1000033.0        87773XXXXX                26   \n",
              "117987  Executives 58  1000058.0        83800XXXXX                 5   \n",
              "\n",
              "       Date_&_Time  Time Time_Bucket Duration(hh:mm:ss)  Call_Seconds (s)  \\\n",
              "0         1/1/2022   9.0        9_10            0:01:36              96.0   \n",
              "1         1/1/2022   9.0        9_10            0:02:20             140.0   \n",
              "2         1/1/2022   9.0        9_10            0:01:25              85.0   \n",
              "3         1/1/2022   9.0        9_10            0:01:31              91.0   \n",
              "4         1/1/2022   9.0        9_10            0:02:45             165.0   \n",
              "...            ...   ...         ...                ...               ...   \n",
              "117983   1/23/2022  20.0       20_21            0:01:32              92.0   \n",
              "117984   1/23/2022  20.0       20_21            0:01:14              74.0   \n",
              "117985   1/23/2022  20.0       20_21            0:01:48             108.0   \n",
              "117986   1/23/2022  20.0       20_21            0:01:13              73.0   \n",
              "117987   1/23/2022  20.0       20_21            0:01:22              82.0   \n",
              "\n",
              "       Call_Status  Wrapped _By Ringing IVR _Duration  \n",
              "0         answered        Agent     YES       0:00:16  \n",
              "1         answered        Agent     YES       0:00:26  \n",
              "2         answered  AutoWrapped     YES       0:00:16  \n",
              "3         answered        Agent     YES       0:00:25  \n",
              "4         answered        Agent     YES       0:00:23  \n",
              "...            ...          ...     ...           ...  \n",
              "117983    answered        Agent     YES       0:00:42  \n",
              "117984    answered        Agent     YES       0:00:15  \n",
              "117985    answered        Agent     YES       0:00:23  \n",
              "117986    answered        Agent     YES       0:01:05  \n",
              "117987    answered        Agent     YES       0:00:14  \n",
              "\n",
              "[70111 rows x 13 columns]"
            ],
            "text/html": [
              "\n",
              "  <div id=\"df-2fb45c2b-65bb-4986-95ad-a58eb29f4e39\">\n",
              "    <div class=\"colab-df-container\">\n",
              "      <div>\n",
              "<style scoped>\n",
              "    .dataframe tbody tr th:only-of-type {\n",
              "        vertical-align: middle;\n",
              "    }\n",
              "\n",
              "    .dataframe tbody tr th {\n",
              "        vertical-align: top;\n",
              "    }\n",
              "\n",
              "    .dataframe thead th {\n",
              "        text-align: right;\n",
              "    }\n",
              "</style>\n",
              "<table border=\"1\" class=\"dataframe\">\n",
              "  <thead>\n",
              "    <tr style=\"text-align: right;\">\n",
              "      <th></th>\n",
              "      <th>Agent_Name</th>\n",
              "      <th>Agent_ID</th>\n",
              "      <th>Customer_Phone_No</th>\n",
              "      <th>Queue_Time(Secs)</th>\n",
              "      <th>Date_&amp;_Time</th>\n",
              "      <th>Time</th>\n",
              "      <th>Time_Bucket</th>\n",
              "      <th>Duration(hh:mm:ss)</th>\n",
              "      <th>Call_Seconds (s)</th>\n",
              "      <th>Call_Status</th>\n",
              "      <th>Wrapped _By</th>\n",
              "      <th>Ringing</th>\n",
              "      <th>IVR _Duration</th>\n",
              "    </tr>\n",
              "  </thead>\n",
              "  <tbody>\n",
              "    <tr>\n",
              "      <th>0</th>\n",
              "      <td>Executives 42</td>\n",
              "      <td>1000042.0</td>\n",
              "      <td>98502XXXXX</td>\n",
              "      <td>2</td>\n",
              "      <td>1/1/2022</td>\n",
              "      <td>9.0</td>\n",
              "      <td>9_10</td>\n",
              "      <td>0:01:36</td>\n",
              "      <td>96.0</td>\n",
              "      <td>answered</td>\n",
              "      <td>Agent</td>\n",
              "      <td>YES</td>\n",
              "      <td>0:00:16</td>\n",
              "    </tr>\n",
              "    <tr>\n",
              "      <th>1</th>\n",
              "      <td>Executives 4</td>\n",
              "      <td>1000004.0</td>\n",
              "      <td>80595XXXXX</td>\n",
              "      <td>0</td>\n",
              "      <td>1/1/2022</td>\n",
              "      <td>9.0</td>\n",
              "      <td>9_10</td>\n",
              "      <td>0:02:20</td>\n",
              "      <td>140.0</td>\n",
              "      <td>answered</td>\n",
              "      <td>Agent</td>\n",
              "      <td>YES</td>\n",
              "      <td>0:00:26</td>\n",
              "    </tr>\n",
              "    <tr>\n",
              "      <th>2</th>\n",
              "      <td>Executives 65</td>\n",
              "      <td>1000065.0</td>\n",
              "      <td>70202XXXXX</td>\n",
              "      <td>0</td>\n",
              "      <td>1/1/2022</td>\n",
              "      <td>9.0</td>\n",
              "      <td>9_10</td>\n",
              "      <td>0:01:25</td>\n",
              "      <td>85.0</td>\n",
              "      <td>answered</td>\n",
              "      <td>AutoWrapped</td>\n",
              "      <td>YES</td>\n",
              "      <td>0:00:16</td>\n",
              "    </tr>\n",
              "    <tr>\n",
              "      <th>3</th>\n",
              "      <td>Executives 55</td>\n",
              "      <td>1000055.0</td>\n",
              "      <td>96104XXXXX</td>\n",
              "      <td>1</td>\n",
              "      <td>1/1/2022</td>\n",
              "      <td>9.0</td>\n",
              "      <td>9_10</td>\n",
              "      <td>0:01:31</td>\n",
              "      <td>91.0</td>\n",
              "      <td>answered</td>\n",
              "      <td>Agent</td>\n",
              "      <td>YES</td>\n",
              "      <td>0:00:25</td>\n",
              "    </tr>\n",
              "    <tr>\n",
              "      <th>4</th>\n",
              "      <td>Executives 21</td>\n",
              "      <td>1000021.0</td>\n",
              "      <td>82001XXXXX</td>\n",
              "      <td>0</td>\n",
              "      <td>1/1/2022</td>\n",
              "      <td>9.0</td>\n",
              "      <td>9_10</td>\n",
              "      <td>0:02:45</td>\n",
              "      <td>165.0</td>\n",
              "      <td>answered</td>\n",
              "      <td>Agent</td>\n",
              "      <td>YES</td>\n",
              "      <td>0:00:23</td>\n",
              "    </tr>\n",
              "    <tr>\n",
              "      <th>...</th>\n",
              "      <td>...</td>\n",
              "      <td>...</td>\n",
              "      <td>...</td>\n",
              "      <td>...</td>\n",
              "      <td>...</td>\n",
              "      <td>...</td>\n",
              "      <td>...</td>\n",
              "      <td>...</td>\n",
              "      <td>...</td>\n",
              "      <td>...</td>\n",
              "      <td>...</td>\n",
              "      <td>...</td>\n",
              "      <td>...</td>\n",
              "    </tr>\n",
              "    <tr>\n",
              "      <th>117983</th>\n",
              "      <td>Executives 7</td>\n",
              "      <td>1000007.0</td>\n",
              "      <td>85399XXXXX</td>\n",
              "      <td>62</td>\n",
              "      <td>1/23/2022</td>\n",
              "      <td>20.0</td>\n",
              "      <td>20_21</td>\n",
              "      <td>0:01:32</td>\n",
              "      <td>92.0</td>\n",
              "      <td>answered</td>\n",
              "      <td>Agent</td>\n",
              "      <td>YES</td>\n",
              "      <td>0:00:42</td>\n",
              "    </tr>\n",
              "    <tr>\n",
              "      <th>117984</th>\n",
              "      <td>Executives 36</td>\n",
              "      <td>1000036.0</td>\n",
              "      <td>88397XXXXX</td>\n",
              "      <td>22</td>\n",
              "      <td>1/23/2022</td>\n",
              "      <td>20.0</td>\n",
              "      <td>20_21</td>\n",
              "      <td>0:01:14</td>\n",
              "      <td>74.0</td>\n",
              "      <td>answered</td>\n",
              "      <td>Agent</td>\n",
              "      <td>YES</td>\n",
              "      <td>0:00:15</td>\n",
              "    </tr>\n",
              "    <tr>\n",
              "      <th>117985</th>\n",
              "      <td>Executives 48</td>\n",
              "      <td>1000048.0</td>\n",
              "      <td>70035XXXXX</td>\n",
              "      <td>14</td>\n",
              "      <td>1/23/2022</td>\n",
              "      <td>20.0</td>\n",
              "      <td>20_21</td>\n",
              "      <td>0:01:48</td>\n",
              "      <td>108.0</td>\n",
              "      <td>answered</td>\n",
              "      <td>Agent</td>\n",
              "      <td>YES</td>\n",
              "      <td>0:00:23</td>\n",
              "    </tr>\n",
              "    <tr>\n",
              "      <th>117986</th>\n",
              "      <td>Executives 33</td>\n",
              "      <td>1000033.0</td>\n",
              "      <td>87773XXXXX</td>\n",
              "      <td>26</td>\n",
              "      <td>1/23/2022</td>\n",
              "      <td>20.0</td>\n",
              "      <td>20_21</td>\n",
              "      <td>0:01:13</td>\n",
              "      <td>73.0</td>\n",
              "      <td>answered</td>\n",
              "      <td>Agent</td>\n",
              "      <td>YES</td>\n",
              "      <td>0:01:05</td>\n",
              "    </tr>\n",
              "    <tr>\n",
              "      <th>117987</th>\n",
              "      <td>Executives 58</td>\n",
              "      <td>1000058.0</td>\n",
              "      <td>83800XXXXX</td>\n",
              "      <td>5</td>\n",
              "      <td>1/23/2022</td>\n",
              "      <td>20.0</td>\n",
              "      <td>20_21</td>\n",
              "      <td>0:01:22</td>\n",
              "      <td>82.0</td>\n",
              "      <td>answered</td>\n",
              "      <td>Agent</td>\n",
              "      <td>YES</td>\n",
              "      <td>0:00:14</td>\n",
              "    </tr>\n",
              "  </tbody>\n",
              "</table>\n",
              "<p>70111 rows × 13 columns</p>\n",
              "</div>\n",
              "      <button class=\"colab-df-convert\" onclick=\"convertToInteractive('df-2fb45c2b-65bb-4986-95ad-a58eb29f4e39')\"\n",
              "              title=\"Convert this dataframe to an interactive table.\"\n",
              "              style=\"display:none;\">\n",
              "        \n",
              "  <svg xmlns=\"http://www.w3.org/2000/svg\" height=\"24px\"viewBox=\"0 0 24 24\"\n",
              "       width=\"24px\">\n",
              "    <path d=\"M0 0h24v24H0V0z\" fill=\"none\"/>\n",
              "    <path d=\"M18.56 5.44l.94 2.06.94-2.06 2.06-.94-2.06-.94-.94-2.06-.94 2.06-2.06.94zm-11 1L8.5 8.5l.94-2.06 2.06-.94-2.06-.94L8.5 2.5l-.94 2.06-2.06.94zm10 10l.94 2.06.94-2.06 2.06-.94-2.06-.94-.94-2.06-.94 2.06-2.06.94z\"/><path d=\"M17.41 7.96l-1.37-1.37c-.4-.4-.92-.59-1.43-.59-.52 0-1.04.2-1.43.59L10.3 9.45l-7.72 7.72c-.78.78-.78 2.05 0 2.83L4 21.41c.39.39.9.59 1.41.59.51 0 1.02-.2 1.41-.59l7.78-7.78 2.81-2.81c.8-.78.8-2.07 0-2.86zM5.41 20L4 18.59l7.72-7.72 1.47 1.35L5.41 20z\"/>\n",
              "  </svg>\n",
              "      </button>\n",
              "      \n",
              "  <style>\n",
              "    .colab-df-container {\n",
              "      display:flex;\n",
              "      flex-wrap:wrap;\n",
              "      gap: 12px;\n",
              "    }\n",
              "\n",
              "    .colab-df-convert {\n",
              "      background-color: #E8F0FE;\n",
              "      border: none;\n",
              "      border-radius: 50%;\n",
              "      cursor: pointer;\n",
              "      display: none;\n",
              "      fill: #1967D2;\n",
              "      height: 32px;\n",
              "      padding: 0 0 0 0;\n",
              "      width: 32px;\n",
              "    }\n",
              "\n",
              "    .colab-df-convert:hover {\n",
              "      background-color: #E2EBFA;\n",
              "      box-shadow: 0px 1px 2px rgba(60, 64, 67, 0.3), 0px 1px 3px 1px rgba(60, 64, 67, 0.15);\n",
              "      fill: #174EA6;\n",
              "    }\n",
              "\n",
              "    [theme=dark] .colab-df-convert {\n",
              "      background-color: #3B4455;\n",
              "      fill: #D2E3FC;\n",
              "    }\n",
              "\n",
              "    [theme=dark] .colab-df-convert:hover {\n",
              "      background-color: #434B5C;\n",
              "      box-shadow: 0px 1px 3px 1px rgba(0, 0, 0, 0.15);\n",
              "      filter: drop-shadow(0px 1px 2px rgba(0, 0, 0, 0.3));\n",
              "      fill: #FFFFFF;\n",
              "    }\n",
              "  </style>\n",
              "\n",
              "      <script>\n",
              "        const buttonEl =\n",
              "          document.querySelector('#df-2fb45c2b-65bb-4986-95ad-a58eb29f4e39 button.colab-df-convert');\n",
              "        buttonEl.style.display =\n",
              "          google.colab.kernel.accessAllowed ? 'block' : 'none';\n",
              "\n",
              "        async function convertToInteractive(key) {\n",
              "          const element = document.querySelector('#df-2fb45c2b-65bb-4986-95ad-a58eb29f4e39');\n",
              "          const dataTable =\n",
              "            await google.colab.kernel.invokeFunction('convertToInteractive',\n",
              "                                                     [key], {});\n",
              "          if (!dataTable) return;\n",
              "\n",
              "          const docLinkHtml = 'Like what you see? Visit the ' +\n",
              "            '<a target=\"_blank\" href=https://colab.research.google.com/notebooks/data_table.ipynb>data table notebook</a>'\n",
              "            + ' to learn more about interactive tables.';\n",
              "          element.innerHTML = '';\n",
              "          dataTable['output_type'] = 'display_data';\n",
              "          await google.colab.output.renderOutput(dataTable, element);\n",
              "          const docLink = document.createElement('div');\n",
              "          docLink.innerHTML = docLinkHtml;\n",
              "          element.appendChild(docLink);\n",
              "        }\n",
              "      </script>\n",
              "    </div>\n",
              "  </div>\n",
              "  "
            ]
          },
          "metadata": {},
          "execution_count": 13
        }
      ]
    },
    {
      "cell_type": "markdown",
      "source": [
        "> After cleaning the dataframe we ended up with 70111 rows × 13 columns and ready to be analysed\n"
      ],
      "metadata": {
        "id": "erKV0gS-ES8J"
      }
    },
    {
      "cell_type": "markdown",
      "source": [
        "# Analysis"
      ],
      "metadata": {
        "id": "BXgGJfPrE6Sd"
      }
    },
    {
      "cell_type": "markdown",
      "source": [
        "1. Calculate the average call time duration for all incoming calls received by agents (in each Time_Bucket)."
      ],
      "metadata": {
        "id": "ck09VdlBGMw7"
      }
    },
    {
      "cell_type": "code",
      "source": [
        "average_duration = df.groupby(\"Time_Bucket\")[\"Call_Seconds (s)\"].mean()\n",
        "average_duration\n"
      ],
      "metadata": {
        "colab": {
          "base_uri": "https://localhost:8080/"
        },
        "id": "orAkjFxYMcHg",
        "outputId": "3edac00f-df2d-4e06-e513-c175b4d90fbd"
      },
      "execution_count": 33,
      "outputs": [
        {
          "output_type": "execute_result",
          "data": {
            "text/plain": [
              "Time_Bucket\n",
              "10_11     99.151900\n",
              "11_12    118.255262\n",
              "12_13    145.761901\n",
              "13_14    150.530518\n",
              "14_15    147.696546\n",
              "15_16    170.231375\n",
              "16_17    181.501309\n",
              "17_18    179.808792\n",
              "18_19    174.396959\n",
              "19_20    145.008845\n",
              "20_21    106.920257\n",
              "9_10      94.090764\n",
              "Name: Call_Seconds (s), dtype: float64"
            ]
          },
          "metadata": {},
          "execution_count": 33
        }
      ]
    },
    {
      "cell_type": "code",
      "source": [
        "# Plot the average duration\n",
        "average_duration.plot(kind=\"line\", marker=\"o\", figsize=(10, 4))\n",
        "\n",
        "# Set the plot title and labels\n",
        "plt.title(\"Average Call Duration by Time Bucket\")\n",
        "plt.xlabel(\"Time Bucket\")\n",
        "plt.ylabel(\"Average Duration (s)\")\n",
        "\n",
        "# Display the plot\n",
        "plt.show()"
      ],
      "metadata": {
        "colab": {
          "base_uri": "https://localhost:8080/",
          "height": 410
        },
        "id": "Mf2l-JZgNfZu",
        "outputId": "ba7148cf-bae5-4ab8-8ba3-16955de66ba9"
      },
      "execution_count": 37,
      "outputs": [
        {
          "output_type": "display_data",
          "data": {
            "text/plain": [
              "<Figure size 1000x400 with 1 Axes>"
            ],
            "image/png": "[encoded data removed]"
          },
          "metadata": {}
        }
      ]
    }
  ]
}